{
 "cells": [
  {
   "outputs": [],
   "cell_type": "markdown",
   "source": [
    "# Shor's Algorithm"
   ],
   "metadata": {}
  },
  {
   "outputs": [],
   "cell_type": "markdown",
   "source": [
    "## References\n",
    "* [Neilsen](https://aapt.scitation.org/doi/abs/10.1119/1.1463744?journalCode=ajp)\n",
    "* [An Insightful Blog](https://algassert.com/post/1718)"
   ],
   "metadata": {}
  },
  {
   "outputs": [],
   "cell_type": "markdown",
   "source": [
    "## Main Program\n",
    "The main program of a Shor's algorithm can be summrized in several lines of code.\n",
    "For the theory part, please refer the reference materials above.\n",
    "It factorize an integer `L`, and returns one of the factors.\n",
    "Here, the input `ver` can be either `Val(:quantum)` or `Val(:classical)`,\n",
    "where the classical version is for comparison."
   ],
   "metadata": {}
  },
  {
   "outputs": [],
   "cell_type": "code",
   "source": [
    "using Yao, BitBasis\n",
    "using YaoExtensions: KMod, QFTCircuit\n",
    "using QuAlgorithmZoo: NumberTheory\n",
    "\n",
    "function shor(L::Int, ver=Val(:quantum); maxtry=100)\n",
    "    L%2 == 0 && return 2\n",
    "\n",
    "    # find short cut solutions like `a^b`\n",
    "    res = NumberTheory.factor_a_power_b(L)\n",
    "    res !== nothing && return res[1]\n",
    "\n",
    "    for i in 1:maxtry\n",
    "        # step 1\n",
    "        x = NumberTheory.rand_primeto(L)\n",
    "\n",
    "        # step 2\n",
    "        r = get_order(ver, x, L; )\n",
    "        if r%2 == 0 && powermod(x, r÷2, L) != L-1\n",
    "            # step 3\n",
    "            f1, f2 = gcd(powermod(x, r÷2, L)-1, L), gcd(powermod(x, r÷2, L)+1, L)\n",
    "            if f1!=1\n",
    "                return f1\n",
    "            elseif f2!=1\n",
    "                return f2\n",
    "            else\n",
    "                error(\"Algorithm Fail!\")\n",
    "            end\n",
    "        end\n",
    "    end\n",
    "end"
   ],
   "metadata": {},
   "execution_count": null
  },
  {
   "outputs": [],
   "cell_type": "markdown",
   "source": [
    "Except some shortcuts, in each try, the main program can be summarized in several steps\n",
    "1. randomly pick a number that prime to the input numebr `L`, i.e. `gcd(x, L) = 1`.\n",
    "The complexity of this algorithm is polynomial.\n",
    "2. get the order `x`, i.e. finding a number `r` that satisfies `mod(x^r, L) = 1`.\n",
    "If `r` is even and `x^(r÷2)` is non-trivial, go on, otherwise start another try.\n",
    "Here, trivial means equal to `L-1 (mod L)`.\n",
    "3. According to Theorem 5.2 in Neilsen book,\n",
    "one of `gcd(x^(r÷2)-1, L)` and `gcd(x^(r÷2)+1, L)` must be a non-trivial (`!=1`) factor of `L`.\n",
    "Notice `powermod(x, r÷2, L)` must be `-1` rather than `1`,\n",
    "otherwise the order should be `r/2` according to definition."
   ],
   "metadata": {}
  },
  {
   "outputs": [],
   "cell_type": "markdown",
   "source": [
    "The only difference between classical and quantum version is the order finding algorithm."
   ],
   "metadata": {}
  },
  {
   "outputs": [],
   "cell_type": "markdown",
   "source": [
    "## Order Finding\n",
    "We provided a classical order finding algorithm in `NumberTheory`,\n",
    "here we focus on the quantum version.\n",
    "The algorithm is consisted\n",
    "1. run the circuit to get a bitstring,\n",
    "2. interpret this bitstring in output register as a rational number `s/r`.\n",
    "To achieve this, we first interpret it as a floating point number,\n",
    "then the continued fraction algorithm can find the best match for us.\n",
    "\n",
    "When using the quantum version, we have the flexibility to set key word arguments `nshot`,\n",
    "`nbit` (size of input data register) and `ncbit` (size of control register, or output register).\n",
    "`nbit` can be simply chosen as the minimum register size to store input,\n",
    "while `ncbit` can be estimated with the following function"
   ],
   "metadata": {}
  },
  {
   "outputs": [],
   "cell_type": "code",
   "source": [
    "\"\"\"estimate the required size of the output register.\"\"\"\n",
    "estimate_ncbit(nbit::Int, ϵ::Real) = 2*nbit + 1 + ceil(Int,log2(2+1/2ϵ))\n",
    "\n",
    "get_order(::Val{:classical}, x::Int, L::Int; kwargs...) = NumberTheory.find_order(x, L)\n",
    "function get_order(::Val{:quantum}, x::Int, L::Int; nshots::Int=10,\n",
    "            nbit::Int=bit_length(L-1), ncbit::Int=estimate_ncbit(nbit, 0.25))\n",
    "    c = order_finding_circuit(x, L; nbit=nbit, ncbit=ncbit)\n",
    "    reg = join(product_state(nbit, 1), zero_state(ncbit))\n",
    "\n",
    "    res = measure(copy(reg) |> c; nshots=nshots)\n",
    "    for r in res\n",
    "        # split bit string b into lower bits `k` and higher bits `r`.\n",
    "        mask = bmask(1:ncbit)\n",
    "        k,i = r&mask, r>>ncbit\n",
    "        # get s/r\n",
    "        ϕ = bfloat(k)  #\n",
    "        ϕ == 0 && continue\n",
    "\n",
    "        # order_from_float: given a floating point number,\n",
    "        # return the closest rational number with bounded number of continued fraction steps.\n",
    "        order = NumberTheory.order_from_float(ϕ, x, L)\n",
    "        if order === nothing\n",
    "            continue\n",
    "        else\n",
    "            return order\n",
    "        end\n",
    "    end\n",
    "    return nothing\n",
    "end"
   ],
   "metadata": {},
   "execution_count": null
  },
  {
   "outputs": [],
   "cell_type": "markdown",
   "source": [
    "#### The circuit used for finding order"
   ],
   "metadata": {}
  },
  {
   "outputs": [],
   "cell_type": "code",
   "source": [
    "\"\"\"\n",
    "    order_finding_circuit(x::Int, L::Int; nbit::Int=bit_length(L-1), ncbit::Int=estimate_ncbit(nbit, 0.25)) -> AbstractBlock\n",
    "\n",
    "Returns the circuit for finding the order of `x` to `L`,\n",
    "feeding input `|1>⊗|0>` will get the resulting quantum register with the desired \"phase\" information.\n",
    "\"\"\"\n",
    "function order_finding_circuit(x::Int, L::Int; nbit::Int, ncbit::Int)\n",
    "    N = nbit+ncbit\n",
    "    chain(N, repeat(N, H, 1:ncbit), KMod{N, ncbit}(x, L),\n",
    "        subroutine(N, QFTCircuit(ncbit)', 1:ncbit))\n",
    "end"
   ],
   "metadata": {},
   "execution_count": null
  },
  {
   "outputs": [],
   "cell_type": "markdown",
   "source": [
    "The circuit for order finding is consisted of three parts\n",
    "1. Hadamard gates,\n",
    "2. `KMod` that computes a classical function `mod(a^k*x, L)`.\n",
    "`k` is the integer stored in first `K` (or `ncbit`) qubits and the rest `N-K` qubits stores `a`.\n",
    "Notice it is not a basic gate, it should have been compiled to multiple gates, which is not implemented in `Yao` for the moment.\n",
    "To learn more about implementing arithmatics on a quantum circuit, please read [this paper](https://arxiv.org/abs/1805.12445).\n",
    "3. Inverse quantum fourier transformation."
   ],
   "metadata": {}
  },
  {
   "outputs": [],
   "cell_type": "markdown",
   "source": [
    "## Run\n",
    "Factorizing `15`, you should see `3` or `5`, please report a bug if it is not..."
   ],
   "metadata": {}
  },
  {
   "outputs": [],
   "cell_type": "code",
   "source": [
    "shor(15, Val(:quantum))"
   ],
   "metadata": {},
   "execution_count": null
  },
  {
   "outputs": [],
   "cell_type": "markdown",
   "source": [
    "---\n",
    "\n",
    "*This notebook was generated using [Literate.jl](https://github.com/fredrikekre/Literate.jl).*"
   ],
   "metadata": {}
  }
 ],
 "nbformat_minor": 3,
 "metadata": {
  "language_info": {
   "file_extension": ".jl",
   "mimetype": "application/julia",
   "name": "julia",
   "version": "1.3.0"
  },
  "kernelspec": {
   "name": "julia-1.3",
   "display_name": "Julia 1.3.0",
   "language": "julia"
  }
 },
 "nbformat": 4
}
